{
 "cells": [
  {
   "cell_type": "markdown",
   "id": "0d665342",
   "metadata": {},
   "source": [
    "# Statistical Analyses - IPL Cricket Matches 0-An Intro"
   ]
  },
  {
   "cell_type": "markdown",
   "id": "9ced78b2",
   "metadata": {},
   "source": [
    " To demonstrate these statistical concepts using code, we can use Python, a popular programming language in data science. We'll use Python's libraries like numpy for numerical operations and matplotlib for plotting. This example assumes you have a basic understanding of Python."
   ]
  },
  {
   "cell_type": "markdown",
   "id": "af7cbd68",
   "metadata": {},
   "source": [
    "# Step 1: Setting Up the Environment"
   ]
  },
  {
   "cell_type": "markdown",
   "id": "9329744f",
   "metadata": {},
   "source": [
    "First, make sure you have Python installed on your computer. You'll also need to install the necessary libraries. You can do this using pip:"
   ]
  },
  {
   "cell_type": "code",
   "execution_count": 1,
   "id": "be240e86",
   "metadata": {},
   "outputs": [
    {
     "name": "stdout",
     "output_type": "stream",
     "text": [
      "Requirement already satisfied: numpy in c:\\users\\ardia\\anaconda3\\lib\\site-packages (1.20.3)\n",
      "Requirement already satisfied: matplotlib in c:\\users\\ardia\\anaconda3\\lib\\site-packages (3.4.3)\n",
      "Requirement already satisfied: python-dateutil>=2.7 in c:\\users\\ardia\\anaconda3\\lib\\site-packages (from matplotlib) (2.8.2)\n",
      "Requirement already satisfied: pillow>=6.2.0 in c:\\users\\ardia\\anaconda3\\lib\\site-packages (from matplotlib) (8.4.0)\n",
      "Requirement already satisfied: kiwisolver>=1.0.1 in c:\\users\\ardia\\anaconda3\\lib\\site-packages (from matplotlib) (1.3.1)\n",
      "Requirement already satisfied: cycler>=0.10 in c:\\users\\ardia\\anaconda3\\lib\\site-packages (from matplotlib) (0.10.0)\n",
      "Requirement already satisfied: pyparsing>=2.2.1 in c:\\users\\ardia\\anaconda3\\lib\\site-packages (from matplotlib) (3.0.4)\n",
      "Requirement already satisfied: six in c:\\users\\ardia\\anaconda3\\lib\\site-packages (from cycler>=0.10->matplotlib) (1.16.0)\n",
      "Note: you may need to restart the kernel to use updated packages.\n"
     ]
    }
   ],
   "source": [
    "pip install numpy matplotlib\n"
   ]
  },
  {
   "cell_type": "markdown",
   "id": "b460e5c1",
   "metadata": {},
   "source": [
    "# Step 2: Importing Libraries"
   ]
  },
  {
   "cell_type": "markdown",
   "id": "a0b2b4b7",
   "metadata": {},
   "source": [
    "Now, let's import these libraries in a Python script or a Jupyter notebook:"
   ]
  },
  {
   "cell_type": "code",
   "execution_count": 11,
   "id": "3e904abf",
   "metadata": {},
   "outputs": [],
   "source": [
    "import numpy as np\n",
    "import matplotlib.pyplot as plt\n",
    "import pandas as pd\n",
    "import seaborn as sns"
   ]
  },
  {
   "cell_type": "markdown",
   "id": "a84eeaee",
   "metadata": {},
   "source": [
    "# Step 3: Loading IPL Matches Dataset"
   ]
  },
  {
   "cell_type": "markdown",
   "id": "80cab1a9",
   "metadata": {},
   "source": [
    "### Report Summary: Cricket Matches Dataset"
   ]
  },
  {
   "cell_type": "markdown",
   "id": "87e3c225",
   "metadata": {},
   "source": [
    "#### Dataset Source:\n",
    "The dataset was obtained from https://www.kaggle.com/datasets/manasgarg/ipl/data?select=matches.csv, covering cricket matches played in 2008 to 2017."
   ]
  },
  {
   "cell_type": "markdown",
   "id": "052d7e06",
   "metadata": {},
   "source": [
    "#### Dataset Size:\n",
    "The dataset comprises 636 entries and 18 columns."
   ]
  },
  {
   "cell_type": "markdown",
   "id": "c8b47b8f",
   "metadata": {},
   "source": [
    "#### Description of Variables:"
   ]
  },
  {
   "cell_type": "markdown",
   "id": "331fddd8",
   "metadata": {},
   "source": [
    "season: The year or season in which the match took place.\n"
   ]
  },
  {
   "cell_type": "markdown",
   "id": "3149449c",
   "metadata": {},
   "source": [
    "city: The city where the match was held."
   ]
  },
  {
   "cell_type": "markdown",
   "id": "8fc6ac94",
   "metadata": {},
   "source": [
    "date: The date of the match."
   ]
  },
  {
   "cell_type": "markdown",
   "id": "794dc1bb",
   "metadata": {},
   "source": [
    "team1, team2: The competing teams in the match."
   ]
  },
  {
   "cell_type": "markdown",
   "id": "7eec3740",
   "metadata": {},
   "source": [
    "toss_winner: The team winning the toss."
   ]
  },
  {
   "cell_type": "markdown",
   "id": "5f268f61",
   "metadata": {},
   "source": [
    "toss_decision: The decision made by the toss-winning team (bat/field)."
   ]
  },
  {
   "cell_type": "markdown",
   "id": "ce9c46b8",
   "metadata": {},
   "source": [
    "result: The result of the match (normal/tie/no result)."
   ]
  },
  {
   "cell_type": "markdown",
   "id": "aab4aeeb",
   "metadata": {},
   "source": [
    "dl_applied: Whether the Duckworth-Lewis method was applied (binary: yes/no or 0 or 1)."
   ]
  },
  {
   "cell_type": "markdown",
   "id": "24dce84f",
   "metadata": {},
   "source": [
    "winner: The winning team of the match.\n"
   ]
  },
  {
   "cell_type": "markdown",
   "id": "38399807",
   "metadata": {},
   "source": [
    "win_by_runs: The margin of victory in terms of runs.\n"
   ]
  },
  {
   "cell_type": "markdown",
   "id": "786eb93b",
   "metadata": {},
   "source": [
    "win_by_wickets: The margin of victory in terms of wickets.\n"
   ]
  },
  {
   "cell_type": "markdown",
   "id": "204cae45",
   "metadata": {},
   "source": [
    "player_of_match: The player awarded as the Man of the Match."
   ]
  },
  {
   "cell_type": "code",
   "execution_count": 268,
   "id": "8f848576",
   "metadata": {},
   "outputs": [
    {
     "name": "stdout",
     "output_type": "stream",
     "text": [
      "<class 'pandas.core.frame.DataFrame'>\n",
      "RangeIndex: 636 entries, 0 to 635\n",
      "Data columns (total 18 columns):\n",
      " #   Column           Non-Null Count  Dtype  \n",
      "---  ------           --------------  -----  \n",
      " 0   id               636 non-null    int64  \n",
      " 1   season           636 non-null    int64  \n",
      " 2   city             629 non-null    object \n",
      " 3   date             636 non-null    object \n",
      " 4   team1            636 non-null    object \n",
      " 5   team2            636 non-null    object \n",
      " 6   toss_winner      636 non-null    object \n",
      " 7   toss_decision    636 non-null    object \n",
      " 8   result           636 non-null    object \n",
      " 9   dl_applied       636 non-null    int64  \n",
      " 10  winner           636 non-null    object \n",
      " 11  win_by_runs      636 non-null    int64  \n",
      " 12  win_by_wickets   636 non-null    int64  \n",
      " 13  player_of_match  633 non-null    object \n",
      " 14  venue            636 non-null    object \n",
      " 15  umpire1          635 non-null    object \n",
      " 16  umpire2          635 non-null    object \n",
      " 17  umpire3          0 non-null      float64\n",
      "dtypes: float64(1), int64(5), object(12)\n",
      "memory usage: 89.6+ KB\n"
     ]
    }
   ],
   "source": [
    "ds_matches = pd.read_csv(\"matches.csv\")\n",
    "\n",
    "ds_matches.info()"
   ]
  },
  {
   "cell_type": "markdown",
   "id": "c12a8f4a",
   "metadata": {},
   "source": [
    "# Step 4:Taking a sample of IPL Cricket Matches \n"
   ]
  },
  {
   "cell_type": "code",
   "execution_count": 218,
   "id": "5fdf0cd1",
   "metadata": {},
   "outputs": [
    {
     "data": {
      "text/html": [
       "<div>\n",
       "<style scoped>\n",
       "    .dataframe tbody tr th:only-of-type {\n",
       "        vertical-align: middle;\n",
       "    }\n",
       "\n",
       "    .dataframe tbody tr th {\n",
       "        vertical-align: top;\n",
       "    }\n",
       "\n",
       "    .dataframe thead th {\n",
       "        text-align: right;\n",
       "    }\n",
       "</style>\n",
       "<table border=\"1\" class=\"dataframe\">\n",
       "  <thead>\n",
       "    <tr style=\"text-align: right;\">\n",
       "      <th></th>\n",
       "      <th>id</th>\n",
       "      <th>season</th>\n",
       "      <th>city</th>\n",
       "      <th>date</th>\n",
       "      <th>team1</th>\n",
       "      <th>team2</th>\n",
       "      <th>toss_winner</th>\n",
       "      <th>toss_decision</th>\n",
       "      <th>result</th>\n",
       "      <th>dl_applied</th>\n",
       "      <th>winner</th>\n",
       "      <th>win_by_runs</th>\n",
       "      <th>win_by_wickets</th>\n",
       "      <th>player_of_match</th>\n",
       "      <th>venue</th>\n",
       "      <th>umpire1</th>\n",
       "      <th>umpire2</th>\n",
       "      <th>umpire3</th>\n",
       "    </tr>\n",
       "  </thead>\n",
       "  <tbody>\n",
       "    <tr>\n",
       "      <th>0</th>\n",
       "      <td>1</td>\n",
       "      <td>2017</td>\n",
       "      <td>Hyderabad</td>\n",
       "      <td>05-04-2017</td>\n",
       "      <td>Sunrisers Hyderabad</td>\n",
       "      <td>Royal Challengers Bangalore</td>\n",
       "      <td>Royal Challengers Bangalore</td>\n",
       "      <td>field</td>\n",
       "      <td>normal</td>\n",
       "      <td>0</td>\n",
       "      <td>Sunrisers Hyderabad</td>\n",
       "      <td>35</td>\n",
       "      <td>0</td>\n",
       "      <td>Yuvraj Singh</td>\n",
       "      <td>Rajiv Gandhi International Stadium, Uppal</td>\n",
       "      <td>AY Dandekar</td>\n",
       "      <td>NJ Llong</td>\n",
       "      <td>NaN</td>\n",
       "    </tr>\n",
       "    <tr>\n",
       "      <th>1</th>\n",
       "      <td>2</td>\n",
       "      <td>2017</td>\n",
       "      <td>Pune</td>\n",
       "      <td>06-04-2017</td>\n",
       "      <td>Mumbai Indians</td>\n",
       "      <td>Rising Pune Supergiant</td>\n",
       "      <td>Rising Pune Supergiant</td>\n",
       "      <td>field</td>\n",
       "      <td>normal</td>\n",
       "      <td>0</td>\n",
       "      <td>Rising Pune Supergiant</td>\n",
       "      <td>0</td>\n",
       "      <td>7</td>\n",
       "      <td>SPD Smith</td>\n",
       "      <td>Maharashtra Cricket Association Stadium</td>\n",
       "      <td>A Nand Kishore</td>\n",
       "      <td>S Ravi</td>\n",
       "      <td>NaN</td>\n",
       "    </tr>\n",
       "    <tr>\n",
       "      <th>2</th>\n",
       "      <td>3</td>\n",
       "      <td>2017</td>\n",
       "      <td>Rajkot</td>\n",
       "      <td>07-04-2017</td>\n",
       "      <td>Gujarat Lions</td>\n",
       "      <td>Kolkata Knight Riders</td>\n",
       "      <td>Kolkata Knight Riders</td>\n",
       "      <td>field</td>\n",
       "      <td>normal</td>\n",
       "      <td>0</td>\n",
       "      <td>Kolkata Knight Riders</td>\n",
       "      <td>0</td>\n",
       "      <td>10</td>\n",
       "      <td>CA Lynn</td>\n",
       "      <td>Saurashtra Cricket Association Stadium</td>\n",
       "      <td>Nitin Menon</td>\n",
       "      <td>CK Nandan</td>\n",
       "      <td>NaN</td>\n",
       "    </tr>\n",
       "    <tr>\n",
       "      <th>3</th>\n",
       "      <td>4</td>\n",
       "      <td>2017</td>\n",
       "      <td>Indore</td>\n",
       "      <td>08-04-2017</td>\n",
       "      <td>Rising Pune Supergiant</td>\n",
       "      <td>Kings XI Punjab</td>\n",
       "      <td>Kings XI Punjab</td>\n",
       "      <td>field</td>\n",
       "      <td>normal</td>\n",
       "      <td>0</td>\n",
       "      <td>Kings XI Punjab</td>\n",
       "      <td>0</td>\n",
       "      <td>6</td>\n",
       "      <td>GJ Maxwell</td>\n",
       "      <td>Holkar Cricket Stadium</td>\n",
       "      <td>AK Chaudhary</td>\n",
       "      <td>C Shamshuddin</td>\n",
       "      <td>NaN</td>\n",
       "    </tr>\n",
       "    <tr>\n",
       "      <th>4</th>\n",
       "      <td>5</td>\n",
       "      <td>2017</td>\n",
       "      <td>Bangalore</td>\n",
       "      <td>08-04-2017</td>\n",
       "      <td>Royal Challengers Bangalore</td>\n",
       "      <td>Delhi Daredevils</td>\n",
       "      <td>Royal Challengers Bangalore</td>\n",
       "      <td>bat</td>\n",
       "      <td>normal</td>\n",
       "      <td>0</td>\n",
       "      <td>Royal Challengers Bangalore</td>\n",
       "      <td>15</td>\n",
       "      <td>0</td>\n",
       "      <td>KM Jadhav</td>\n",
       "      <td>M Chinnaswamy Stadium</td>\n",
       "      <td>NaN</td>\n",
       "      <td>NaN</td>\n",
       "      <td>NaN</td>\n",
       "    </tr>\n",
       "    <tr>\n",
       "      <th>...</th>\n",
       "      <td>...</td>\n",
       "      <td>...</td>\n",
       "      <td>...</td>\n",
       "      <td>...</td>\n",
       "      <td>...</td>\n",
       "      <td>...</td>\n",
       "      <td>...</td>\n",
       "      <td>...</td>\n",
       "      <td>...</td>\n",
       "      <td>...</td>\n",
       "      <td>...</td>\n",
       "      <td>...</td>\n",
       "      <td>...</td>\n",
       "      <td>...</td>\n",
       "      <td>...</td>\n",
       "      <td>...</td>\n",
       "      <td>...</td>\n",
       "      <td>...</td>\n",
       "    </tr>\n",
       "    <tr>\n",
       "      <th>631</th>\n",
       "      <td>632</td>\n",
       "      <td>2016</td>\n",
       "      <td>Raipur</td>\n",
       "      <td>22-05-2016</td>\n",
       "      <td>Delhi Daredevils</td>\n",
       "      <td>Royal Challengers Bangalore</td>\n",
       "      <td>Royal Challengers Bangalore</td>\n",
       "      <td>field</td>\n",
       "      <td>normal</td>\n",
       "      <td>0</td>\n",
       "      <td>Royal Challengers Bangalore</td>\n",
       "      <td>0</td>\n",
       "      <td>6</td>\n",
       "      <td>V Kohli</td>\n",
       "      <td>Shaheed Veer Narayan Singh International Stadium</td>\n",
       "      <td>A Nand Kishore</td>\n",
       "      <td>BNJ Oxenford</td>\n",
       "      <td>NaN</td>\n",
       "    </tr>\n",
       "    <tr>\n",
       "      <th>632</th>\n",
       "      <td>633</td>\n",
       "      <td>2016</td>\n",
       "      <td>Bangalore</td>\n",
       "      <td>24-05-2016</td>\n",
       "      <td>Gujarat Lions</td>\n",
       "      <td>Royal Challengers Bangalore</td>\n",
       "      <td>Royal Challengers Bangalore</td>\n",
       "      <td>field</td>\n",
       "      <td>normal</td>\n",
       "      <td>0</td>\n",
       "      <td>Royal Challengers Bangalore</td>\n",
       "      <td>0</td>\n",
       "      <td>4</td>\n",
       "      <td>AB de Villiers</td>\n",
       "      <td>M Chinnaswamy Stadium</td>\n",
       "      <td>AK Chaudhary</td>\n",
       "      <td>HDPK Dharmasena</td>\n",
       "      <td>NaN</td>\n",
       "    </tr>\n",
       "    <tr>\n",
       "      <th>633</th>\n",
       "      <td>634</td>\n",
       "      <td>2016</td>\n",
       "      <td>Delhi</td>\n",
       "      <td>25-05-2016</td>\n",
       "      <td>Sunrisers Hyderabad</td>\n",
       "      <td>Kolkata Knight Riders</td>\n",
       "      <td>Kolkata Knight Riders</td>\n",
       "      <td>field</td>\n",
       "      <td>normal</td>\n",
       "      <td>0</td>\n",
       "      <td>Sunrisers Hyderabad</td>\n",
       "      <td>22</td>\n",
       "      <td>0</td>\n",
       "      <td>MC Henriques</td>\n",
       "      <td>Feroz Shah Kotla</td>\n",
       "      <td>M Erasmus</td>\n",
       "      <td>C Shamshuddin</td>\n",
       "      <td>NaN</td>\n",
       "    </tr>\n",
       "    <tr>\n",
       "      <th>634</th>\n",
       "      <td>635</td>\n",
       "      <td>2016</td>\n",
       "      <td>Delhi</td>\n",
       "      <td>27-05-2016</td>\n",
       "      <td>Gujarat Lions</td>\n",
       "      <td>Sunrisers Hyderabad</td>\n",
       "      <td>Sunrisers Hyderabad</td>\n",
       "      <td>field</td>\n",
       "      <td>normal</td>\n",
       "      <td>0</td>\n",
       "      <td>Sunrisers Hyderabad</td>\n",
       "      <td>0</td>\n",
       "      <td>4</td>\n",
       "      <td>DA Warner</td>\n",
       "      <td>Feroz Shah Kotla</td>\n",
       "      <td>M Erasmus</td>\n",
       "      <td>CK Nandan</td>\n",
       "      <td>NaN</td>\n",
       "    </tr>\n",
       "    <tr>\n",
       "      <th>635</th>\n",
       "      <td>636</td>\n",
       "      <td>2016</td>\n",
       "      <td>Bangalore</td>\n",
       "      <td>29-05-2016</td>\n",
       "      <td>Sunrisers Hyderabad</td>\n",
       "      <td>Royal Challengers Bangalore</td>\n",
       "      <td>Sunrisers Hyderabad</td>\n",
       "      <td>bat</td>\n",
       "      <td>normal</td>\n",
       "      <td>0</td>\n",
       "      <td>Sunrisers Hyderabad</td>\n",
       "      <td>8</td>\n",
       "      <td>0</td>\n",
       "      <td>BCJ Cutting</td>\n",
       "      <td>M Chinnaswamy Stadium</td>\n",
       "      <td>HDPK Dharmasena</td>\n",
       "      <td>BNJ Oxenford</td>\n",
       "      <td>NaN</td>\n",
       "    </tr>\n",
       "  </tbody>\n",
       "</table>\n",
       "<p>636 rows × 18 columns</p>\n",
       "</div>"
      ],
      "text/plain": [
       "      id  season       city        date                        team1  \\\n",
       "0      1    2017  Hyderabad  05-04-2017          Sunrisers Hyderabad   \n",
       "1      2    2017       Pune  06-04-2017               Mumbai Indians   \n",
       "2      3    2017     Rajkot  07-04-2017                Gujarat Lions   \n",
       "3      4    2017     Indore  08-04-2017       Rising Pune Supergiant   \n",
       "4      5    2017  Bangalore  08-04-2017  Royal Challengers Bangalore   \n",
       "..   ...     ...        ...         ...                          ...   \n",
       "631  632    2016     Raipur  22-05-2016             Delhi Daredevils   \n",
       "632  633    2016  Bangalore  24-05-2016                Gujarat Lions   \n",
       "633  634    2016      Delhi  25-05-2016          Sunrisers Hyderabad   \n",
       "634  635    2016      Delhi  27-05-2016                Gujarat Lions   \n",
       "635  636    2016  Bangalore  29-05-2016          Sunrisers Hyderabad   \n",
       "\n",
       "                           team2                  toss_winner toss_decision  \\\n",
       "0    Royal Challengers Bangalore  Royal Challengers Bangalore         field   \n",
       "1         Rising Pune Supergiant       Rising Pune Supergiant         field   \n",
       "2          Kolkata Knight Riders        Kolkata Knight Riders         field   \n",
       "3                Kings XI Punjab              Kings XI Punjab         field   \n",
       "4               Delhi Daredevils  Royal Challengers Bangalore           bat   \n",
       "..                           ...                          ...           ...   \n",
       "631  Royal Challengers Bangalore  Royal Challengers Bangalore         field   \n",
       "632  Royal Challengers Bangalore  Royal Challengers Bangalore         field   \n",
       "633        Kolkata Knight Riders        Kolkata Knight Riders         field   \n",
       "634          Sunrisers Hyderabad          Sunrisers Hyderabad         field   \n",
       "635  Royal Challengers Bangalore          Sunrisers Hyderabad           bat   \n",
       "\n",
       "     result  dl_applied                       winner  win_by_runs  \\\n",
       "0    normal           0          Sunrisers Hyderabad           35   \n",
       "1    normal           0       Rising Pune Supergiant            0   \n",
       "2    normal           0        Kolkata Knight Riders            0   \n",
       "3    normal           0              Kings XI Punjab            0   \n",
       "4    normal           0  Royal Challengers Bangalore           15   \n",
       "..      ...         ...                          ...          ...   \n",
       "631  normal           0  Royal Challengers Bangalore            0   \n",
       "632  normal           0  Royal Challengers Bangalore            0   \n",
       "633  normal           0          Sunrisers Hyderabad           22   \n",
       "634  normal           0          Sunrisers Hyderabad            0   \n",
       "635  normal           0          Sunrisers Hyderabad            8   \n",
       "\n",
       "     win_by_wickets player_of_match  \\\n",
       "0                 0    Yuvraj Singh   \n",
       "1                 7       SPD Smith   \n",
       "2                10         CA Lynn   \n",
       "3                 6      GJ Maxwell   \n",
       "4                 0       KM Jadhav   \n",
       "..              ...             ...   \n",
       "631               6         V Kohli   \n",
       "632               4  AB de Villiers   \n",
       "633               0    MC Henriques   \n",
       "634               4       DA Warner   \n",
       "635               0     BCJ Cutting   \n",
       "\n",
       "                                                venue          umpire1  \\\n",
       "0           Rajiv Gandhi International Stadium, Uppal      AY Dandekar   \n",
       "1             Maharashtra Cricket Association Stadium   A Nand Kishore   \n",
       "2              Saurashtra Cricket Association Stadium      Nitin Menon   \n",
       "3                              Holkar Cricket Stadium     AK Chaudhary   \n",
       "4                               M Chinnaswamy Stadium              NaN   \n",
       "..                                                ...              ...   \n",
       "631  Shaheed Veer Narayan Singh International Stadium   A Nand Kishore   \n",
       "632                             M Chinnaswamy Stadium     AK Chaudhary   \n",
       "633                                  Feroz Shah Kotla        M Erasmus   \n",
       "634                                  Feroz Shah Kotla        M Erasmus   \n",
       "635                             M Chinnaswamy Stadium  HDPK Dharmasena   \n",
       "\n",
       "             umpire2  umpire3  \n",
       "0           NJ Llong      NaN  \n",
       "1             S Ravi      NaN  \n",
       "2          CK Nandan      NaN  \n",
       "3      C Shamshuddin      NaN  \n",
       "4                NaN      NaN  \n",
       "..               ...      ...  \n",
       "631     BNJ Oxenford      NaN  \n",
       "632  HDPK Dharmasena      NaN  \n",
       "633    C Shamshuddin      NaN  \n",
       "634        CK Nandan      NaN  \n",
       "635     BNJ Oxenford      NaN  \n",
       "\n",
       "[636 rows x 18 columns]"
      ]
     },
     "execution_count": 218,
     "metadata": {},
     "output_type": "execute_result"
    }
   ],
   "source": [
    "ds_matches"
   ]
  },
  {
   "cell_type": "code",
   "execution_count": 267,
   "id": "90646126",
   "metadata": {},
   "outputs": [
    {
     "data": {
      "text/plain": [
       "[2008, 2009, 2010, 2011, 2012, 2013, 2014, 2015, 2016, 2017]"
      ]
     },
     "execution_count": 267,
     "metadata": {},
     "output_type": "execute_result"
    }
   ],
   "source": [
    "sorted(ds_matches['season'].unique())"
   ]
  },
  {
   "cell_type": "markdown",
   "id": "a51b4597",
   "metadata": {},
   "source": [
    "# Step 5: Exploring Variables and Distributions"
   ]
  },
  {
   "cell_type": "markdown",
   "id": "e8deb2df",
   "metadata": {},
   "source": [
    "We'll plot the distribution of our sample."
   ]
  },
  {
   "cell_type": "markdown",
   "id": "10fd72ef",
   "metadata": {},
   "source": [
    "### Interest and Statistical Analysis:\n",
    "\n",
    "This dataset is compelling due to its rich information about cricket matches, including details on teams, match outcomes, winning margins, and player performances."
   ]
  },
  {
   "cell_type": "markdown",
   "id": "389bc6e5",
   "metadata": {},
   "source": [
    "# EDA: Exploratory Data Analyses"
   ]
  },
  {
   "cell_type": "markdown",
   "id": "5ca44e42",
   "metadata": {},
   "source": [
    "Exploratory Data Analysis (EDA) involves understanding the dataset by cleaning, visualizing, and conducting preliminary analysis to identify patterns, outliers, and insights.\n",
    "\n",
    "Data Cleaning:\n",
    "Before EDA, it's essential to clean the data, handling missing values and outliers if necessary. Here's an example of handling missing values and removing unnecessary columns:"
   ]
  },
  {
   "cell_type": "code",
   "execution_count": 31,
   "id": "fb58307b",
   "metadata": {},
   "outputs": [
    {
     "data": {
      "text/html": [
       "<div>\n",
       "<style scoped>\n",
       "    .dataframe tbody tr th:only-of-type {\n",
       "        vertical-align: middle;\n",
       "    }\n",
       "\n",
       "    .dataframe tbody tr th {\n",
       "        vertical-align: top;\n",
       "    }\n",
       "\n",
       "    .dataframe thead th {\n",
       "        text-align: right;\n",
       "    }\n",
       "</style>\n",
       "<table border=\"1\" class=\"dataframe\">\n",
       "  <thead>\n",
       "    <tr style=\"text-align: right;\">\n",
       "      <th></th>\n",
       "      <th>id</th>\n",
       "      <th>season</th>\n",
       "      <th>city</th>\n",
       "      <th>date</th>\n",
       "      <th>team1</th>\n",
       "      <th>team2</th>\n",
       "      <th>toss_winner</th>\n",
       "      <th>toss_decision</th>\n",
       "      <th>result</th>\n",
       "      <th>dl_applied</th>\n",
       "      <th>winner</th>\n",
       "      <th>win_by_runs</th>\n",
       "      <th>win_by_wickets</th>\n",
       "      <th>player_of_match</th>\n",
       "      <th>venue</th>\n",
       "    </tr>\n",
       "  </thead>\n",
       "  <tbody>\n",
       "    <tr>\n",
       "      <th>0</th>\n",
       "      <td>1</td>\n",
       "      <td>2017</td>\n",
       "      <td>Hyderabad</td>\n",
       "      <td>05-04-2017</td>\n",
       "      <td>Sunrisers Hyderabad</td>\n",
       "      <td>Royal Challengers Bangalore</td>\n",
       "      <td>Royal Challengers Bangalore</td>\n",
       "      <td>field</td>\n",
       "      <td>normal</td>\n",
       "      <td>0</td>\n",
       "      <td>Sunrisers Hyderabad</td>\n",
       "      <td>35</td>\n",
       "      <td>0</td>\n",
       "      <td>Yuvraj Singh</td>\n",
       "      <td>Rajiv Gandhi International Stadium, Uppal</td>\n",
       "    </tr>\n",
       "    <tr>\n",
       "      <th>1</th>\n",
       "      <td>2</td>\n",
       "      <td>2017</td>\n",
       "      <td>Pune</td>\n",
       "      <td>06-04-2017</td>\n",
       "      <td>Mumbai Indians</td>\n",
       "      <td>Rising Pune Supergiant</td>\n",
       "      <td>Rising Pune Supergiant</td>\n",
       "      <td>field</td>\n",
       "      <td>normal</td>\n",
       "      <td>0</td>\n",
       "      <td>Rising Pune Supergiant</td>\n",
       "      <td>0</td>\n",
       "      <td>7</td>\n",
       "      <td>SPD Smith</td>\n",
       "      <td>Maharashtra Cricket Association Stadium</td>\n",
       "    </tr>\n",
       "    <tr>\n",
       "      <th>2</th>\n",
       "      <td>3</td>\n",
       "      <td>2017</td>\n",
       "      <td>Rajkot</td>\n",
       "      <td>07-04-2017</td>\n",
       "      <td>Gujarat Lions</td>\n",
       "      <td>Kolkata Knight Riders</td>\n",
       "      <td>Kolkata Knight Riders</td>\n",
       "      <td>field</td>\n",
       "      <td>normal</td>\n",
       "      <td>0</td>\n",
       "      <td>Kolkata Knight Riders</td>\n",
       "      <td>0</td>\n",
       "      <td>10</td>\n",
       "      <td>CA Lynn</td>\n",
       "      <td>Saurashtra Cricket Association Stadium</td>\n",
       "    </tr>\n",
       "    <tr>\n",
       "      <th>3</th>\n",
       "      <td>4</td>\n",
       "      <td>2017</td>\n",
       "      <td>Indore</td>\n",
       "      <td>08-04-2017</td>\n",
       "      <td>Rising Pune Supergiant</td>\n",
       "      <td>Kings XI Punjab</td>\n",
       "      <td>Kings XI Punjab</td>\n",
       "      <td>field</td>\n",
       "      <td>normal</td>\n",
       "      <td>0</td>\n",
       "      <td>Kings XI Punjab</td>\n",
       "      <td>0</td>\n",
       "      <td>6</td>\n",
       "      <td>GJ Maxwell</td>\n",
       "      <td>Holkar Cricket Stadium</td>\n",
       "    </tr>\n",
       "    <tr>\n",
       "      <th>4</th>\n",
       "      <td>5</td>\n",
       "      <td>2017</td>\n",
       "      <td>Bangalore</td>\n",
       "      <td>08-04-2017</td>\n",
       "      <td>Royal Challengers Bangalore</td>\n",
       "      <td>Delhi Daredevils</td>\n",
       "      <td>Royal Challengers Bangalore</td>\n",
       "      <td>bat</td>\n",
       "      <td>normal</td>\n",
       "      <td>0</td>\n",
       "      <td>Royal Challengers Bangalore</td>\n",
       "      <td>15</td>\n",
       "      <td>0</td>\n",
       "      <td>KM Jadhav</td>\n",
       "      <td>M Chinnaswamy Stadium</td>\n",
       "    </tr>\n",
       "    <tr>\n",
       "      <th>...</th>\n",
       "      <td>...</td>\n",
       "      <td>...</td>\n",
       "      <td>...</td>\n",
       "      <td>...</td>\n",
       "      <td>...</td>\n",
       "      <td>...</td>\n",
       "      <td>...</td>\n",
       "      <td>...</td>\n",
       "      <td>...</td>\n",
       "      <td>...</td>\n",
       "      <td>...</td>\n",
       "      <td>...</td>\n",
       "      <td>...</td>\n",
       "      <td>...</td>\n",
       "      <td>...</td>\n",
       "    </tr>\n",
       "    <tr>\n",
       "      <th>631</th>\n",
       "      <td>632</td>\n",
       "      <td>2016</td>\n",
       "      <td>Raipur</td>\n",
       "      <td>22-05-2016</td>\n",
       "      <td>Delhi Daredevils</td>\n",
       "      <td>Royal Challengers Bangalore</td>\n",
       "      <td>Royal Challengers Bangalore</td>\n",
       "      <td>field</td>\n",
       "      <td>normal</td>\n",
       "      <td>0</td>\n",
       "      <td>Royal Challengers Bangalore</td>\n",
       "      <td>0</td>\n",
       "      <td>6</td>\n",
       "      <td>V Kohli</td>\n",
       "      <td>Shaheed Veer Narayan Singh International Stadium</td>\n",
       "    </tr>\n",
       "    <tr>\n",
       "      <th>632</th>\n",
       "      <td>633</td>\n",
       "      <td>2016</td>\n",
       "      <td>Bangalore</td>\n",
       "      <td>24-05-2016</td>\n",
       "      <td>Gujarat Lions</td>\n",
       "      <td>Royal Challengers Bangalore</td>\n",
       "      <td>Royal Challengers Bangalore</td>\n",
       "      <td>field</td>\n",
       "      <td>normal</td>\n",
       "      <td>0</td>\n",
       "      <td>Royal Challengers Bangalore</td>\n",
       "      <td>0</td>\n",
       "      <td>4</td>\n",
       "      <td>AB de Villiers</td>\n",
       "      <td>M Chinnaswamy Stadium</td>\n",
       "    </tr>\n",
       "    <tr>\n",
       "      <th>633</th>\n",
       "      <td>634</td>\n",
       "      <td>2016</td>\n",
       "      <td>Delhi</td>\n",
       "      <td>25-05-2016</td>\n",
       "      <td>Sunrisers Hyderabad</td>\n",
       "      <td>Kolkata Knight Riders</td>\n",
       "      <td>Kolkata Knight Riders</td>\n",
       "      <td>field</td>\n",
       "      <td>normal</td>\n",
       "      <td>0</td>\n",
       "      <td>Sunrisers Hyderabad</td>\n",
       "      <td>22</td>\n",
       "      <td>0</td>\n",
       "      <td>MC Henriques</td>\n",
       "      <td>Feroz Shah Kotla</td>\n",
       "    </tr>\n",
       "    <tr>\n",
       "      <th>634</th>\n",
       "      <td>635</td>\n",
       "      <td>2016</td>\n",
       "      <td>Delhi</td>\n",
       "      <td>27-05-2016</td>\n",
       "      <td>Gujarat Lions</td>\n",
       "      <td>Sunrisers Hyderabad</td>\n",
       "      <td>Sunrisers Hyderabad</td>\n",
       "      <td>field</td>\n",
       "      <td>normal</td>\n",
       "      <td>0</td>\n",
       "      <td>Sunrisers Hyderabad</td>\n",
       "      <td>0</td>\n",
       "      <td>4</td>\n",
       "      <td>DA Warner</td>\n",
       "      <td>Feroz Shah Kotla</td>\n",
       "    </tr>\n",
       "    <tr>\n",
       "      <th>635</th>\n",
       "      <td>636</td>\n",
       "      <td>2016</td>\n",
       "      <td>Bangalore</td>\n",
       "      <td>29-05-2016</td>\n",
       "      <td>Sunrisers Hyderabad</td>\n",
       "      <td>Royal Challengers Bangalore</td>\n",
       "      <td>Sunrisers Hyderabad</td>\n",
       "      <td>bat</td>\n",
       "      <td>normal</td>\n",
       "      <td>0</td>\n",
       "      <td>Sunrisers Hyderabad</td>\n",
       "      <td>8</td>\n",
       "      <td>0</td>\n",
       "      <td>BCJ Cutting</td>\n",
       "      <td>M Chinnaswamy Stadium</td>\n",
       "    </tr>\n",
       "  </tbody>\n",
       "</table>\n",
       "<p>636 rows × 15 columns</p>\n",
       "</div>"
      ],
      "text/plain": [
       "      id  season       city        date                        team1  \\\n",
       "0      1    2017  Hyderabad  05-04-2017          Sunrisers Hyderabad   \n",
       "1      2    2017       Pune  06-04-2017               Mumbai Indians   \n",
       "2      3    2017     Rajkot  07-04-2017                Gujarat Lions   \n",
       "3      4    2017     Indore  08-04-2017       Rising Pune Supergiant   \n",
       "4      5    2017  Bangalore  08-04-2017  Royal Challengers Bangalore   \n",
       "..   ...     ...        ...         ...                          ...   \n",
       "631  632    2016     Raipur  22-05-2016             Delhi Daredevils   \n",
       "632  633    2016  Bangalore  24-05-2016                Gujarat Lions   \n",
       "633  634    2016      Delhi  25-05-2016          Sunrisers Hyderabad   \n",
       "634  635    2016      Delhi  27-05-2016                Gujarat Lions   \n",
       "635  636    2016  Bangalore  29-05-2016          Sunrisers Hyderabad   \n",
       "\n",
       "                           team2                  toss_winner toss_decision  \\\n",
       "0    Royal Challengers Bangalore  Royal Challengers Bangalore         field   \n",
       "1         Rising Pune Supergiant       Rising Pune Supergiant         field   \n",
       "2          Kolkata Knight Riders        Kolkata Knight Riders         field   \n",
       "3                Kings XI Punjab              Kings XI Punjab         field   \n",
       "4               Delhi Daredevils  Royal Challengers Bangalore           bat   \n",
       "..                           ...                          ...           ...   \n",
       "631  Royal Challengers Bangalore  Royal Challengers Bangalore         field   \n",
       "632  Royal Challengers Bangalore  Royal Challengers Bangalore         field   \n",
       "633        Kolkata Knight Riders        Kolkata Knight Riders         field   \n",
       "634          Sunrisers Hyderabad          Sunrisers Hyderabad         field   \n",
       "635  Royal Challengers Bangalore          Sunrisers Hyderabad           bat   \n",
       "\n",
       "     result  dl_applied                       winner  win_by_runs  \\\n",
       "0    normal           0          Sunrisers Hyderabad           35   \n",
       "1    normal           0       Rising Pune Supergiant            0   \n",
       "2    normal           0        Kolkata Knight Riders            0   \n",
       "3    normal           0              Kings XI Punjab            0   \n",
       "4    normal           0  Royal Challengers Bangalore           15   \n",
       "..      ...         ...                          ...          ...   \n",
       "631  normal           0  Royal Challengers Bangalore            0   \n",
       "632  normal           0  Royal Challengers Bangalore            0   \n",
       "633  normal           0          Sunrisers Hyderabad           22   \n",
       "634  normal           0          Sunrisers Hyderabad            0   \n",
       "635  normal           0          Sunrisers Hyderabad            8   \n",
       "\n",
       "     win_by_wickets player_of_match  \\\n",
       "0                 0    Yuvraj Singh   \n",
       "1                 7       SPD Smith   \n",
       "2                10         CA Lynn   \n",
       "3                 6      GJ Maxwell   \n",
       "4                 0       KM Jadhav   \n",
       "..              ...             ...   \n",
       "631               6         V Kohli   \n",
       "632               4  AB de Villiers   \n",
       "633               0    MC Henriques   \n",
       "634               4       DA Warner   \n",
       "635               0     BCJ Cutting   \n",
       "\n",
       "                                                venue  \n",
       "0           Rajiv Gandhi International Stadium, Uppal  \n",
       "1             Maharashtra Cricket Association Stadium  \n",
       "2              Saurashtra Cricket Association Stadium  \n",
       "3                              Holkar Cricket Stadium  \n",
       "4                               M Chinnaswamy Stadium  \n",
       "..                                                ...  \n",
       "631  Shaheed Veer Narayan Singh International Stadium  \n",
       "632                             M Chinnaswamy Stadium  \n",
       "633                                  Feroz Shah Kotla  \n",
       "634                                  Feroz Shah Kotla  \n",
       "635                             M Chinnaswamy Stadium  \n",
       "\n",
       "[636 rows x 15 columns]"
      ]
     },
     "execution_count": 31,
     "metadata": {},
     "output_type": "execute_result"
    }
   ],
   "source": [
    "import pandas as pd\n",
    "\n",
    "# Load the India premier League Cricket dataset\n",
    "\n",
    "# https://www.kaggle.com/datasets/manasgarg/ipl/data?select=matches.csv\n",
    "# above mentioned link for matches dataset\n",
    "ds_cric = pd.read_csv('matches.csv')\n",
    "\n",
    "# Handling missing values (e.g., filling missing ages with the median)\n",
    "ds_cric['win_by_runs'].fillna(ds_cric['win_by_runs'].median(), inplace=True)\n",
    "ds_cric['win_by_wickets'].fillna(ds_cric['win_by_wickets'].median(), inplace=True)\n",
    "\n",
    "ds_cric.drop('umpire1', axis=1, inplace=True)\n",
    "ds_cric.drop('umpire2', axis=1, inplace=True)\n",
    "ds_cric.drop('umpire3', axis=1, inplace=True)\n",
    "\n",
    "# Now, you can proceed with EDA on the dataset\n",
    "# Visualizations, summary statistics, and analysis as mentioned in previous responses.\n",
    "ds_cric"
   ]
  },
  {
   "cell_type": "code",
   "execution_count": 276,
   "id": "b94b7c7d",
   "metadata": {},
   "outputs": [
    {
     "name": "stdout",
     "output_type": "stream",
     "text": [
      "Column Names: Index(['id', 'season', 'city', 'date', 'team1', 'team2', 'toss_winner',\n",
      "       'toss_decision', 'result', 'dl_applied', 'winner', 'win_by_runs',\n",
      "       'win_by_wickets', 'player_of_match', 'venue'],\n",
      "      dtype='object')\n"
     ]
    }
   ],
   "source": [
    "import pandas as pd\n",
    "\n",
    "# Check the column names\n",
    "column_names = ds_cric.columns\n",
    "print(\"Column Names:\", column_names)\n"
   ]
  },
  {
   "cell_type": "markdown",
   "id": "2bec19b7",
   "metadata": {},
   "source": [
    "It offers ample opportunities for statistical analysis, including:\n",
    "\n",
    "Visualizations: Use various plots (bar plots, histograms, pie charts, etc.) to explore relationships \n",
    "\n",
    "1.Exploring the relationship between toss-winning teams and match winners."
   ]
  },
  {
   "cell_type": "code",
   "execution_count": 32,
   "id": "b2bf1411",
   "metadata": {},
   "outputs": [
    {
     "name": "stdout",
     "output_type": "stream",
     "text": [
      "Total Matches: 636\n",
      "Matches where Toss Winner = Match Winner: 325\n",
      "Percentage of Matches where Toss Winner = Match Winner: 51.10%\n"
     ]
    }
   ],
   "source": [
    "import pandas as pd\n",
    "\n",
    "# Counting occurrences of matches where the toss winner is the same as the match winner\n",
    "ds = ds_cric[ds_cric['toss_winner'] == ds_cric['winner']]\n",
    "\n",
    "# Calculating the total number of matches and matches where toss winner = match winner\n",
    "total_matches = len(ds_cric)\n",
    "common_winner_count = len(common_winner)\n",
    "\n",
    "# Calculate the percentage of matches where toss winner is the same as match winner\n",
    "percentage_common_winner = (common_winner_count / total_matches) * 100\n",
    "\n",
    "print(f\"Total Matches: {total_matches}\")\n",
    "print(f\"Matches where Toss Winner = Match Winner: {common_winner_count}\")\n",
    "print(f\"Percentage of Matches where Toss Winner = Match Winner: {percentage_common_winner:.2f}%\")\n",
    "\n"
   ]
  },
  {
   "cell_type": "code",
   "execution_count": 35,
   "id": "61407485",
   "metadata": {},
   "outputs": [
    {
     "data": {
      "image/png": "[encoded data removed]",
      "text/plain": [
       "<Figure size 576x432 with 1 Axes>"
      ]
     },
     "metadata": {
      "needs_background": "light"
     },
     "output_type": "display_data"
    }
   ],
   "source": [
    "import pandas as pd\n",
    "import matplotlib.pyplot as plt\n",
    "import seaborn as sns\n",
    "\n",
    "# Assuming 'cricket_data' is your dataset containing cricket match information\n",
    "\n",
    "# Counting occurrences of matches where the toss winner is the same as the match winner\n",
    "ds_cric['same_winner'] = ds_cric['toss_winner'] == ds_cric['winner']\n",
    "\n",
    "# Plotting the count of matches where toss winner is the same as match winner\n",
    "plt.figure(figsize=(8, 6))\n",
    "sns.countplot(data=ds_cric, x='same_winner', palette='coolwarm')\n",
    "plt.title('Matches where Toss Winner = Match Winner')\n",
    "plt.xlabel('Toss Winner = Match Winner')\n",
    "plt.ylabel('Number of Matches')\n",
    "plt.xticks([0, 1], ['False', 'True'])  # Setting x-axis labels\n",
    "plt.show()\n"
   ]
  },
  {
   "cell_type": "markdown",
   "id": "c96861a3",
   "metadata": {},
   "source": [
    "2.Analyzing the impact of toss decisions on match outcomes."
   ]
  },
  {
   "cell_type": "code",
   "execution_count": 37,
   "id": "893a8d7c",
   "metadata": {},
   "outputs": [
    {
     "data": {
      "image/png": "[encoded data removed]",
      "text/plain": [
       "<Figure size 720x432 with 1 Axes>"
      ]
     },
     "metadata": {
      "needs_background": "light"
     },
     "output_type": "display_data"
    }
   ],
   "source": [
    "plt.figure(figsize=(10, 6))\n",
    "sns.countplot(data=ds_cric, x='toss_decision', hue='result', palette='viridis')\n",
    "plt.title('Match Outcomes based on Toss Decisions')\n",
    "plt.xlabel('Toss Decision')\n",
    "plt.ylabel('Count of Matches')\n",
    "plt.legend(title='Match Result')\n",
    "plt.show()"
   ]
  },
  {
   "cell_type": "markdown",
   "id": "f695c90e",
   "metadata": {},
   "source": [
    "\n",
    "3.Studying trends in winning margins (runs/wickets) over different seasons or teams."
   ]
  },
  {
   "cell_type": "code",
   "execution_count": 53,
   "id": "e5198840",
   "metadata": {},
   "outputs": [
    {
     "data": {
      "image/png": "[encoded data removed]",
      "text/plain": [
       "<Figure size 720x432 with 1 Axes>"
      ]
     },
     "metadata": {
      "needs_background": "light"
     },
     "output_type": "display_data"
    }
   ],
   "source": [
    "season_win_margin = ds_cric.groupby('season')['win_by_wickets'].mean()\n",
    "plt.figure(figsize=(10, 6))\n",
    "season_win_margin.plot(marker='o', color='green')\n",
    "plt.title('Mean Winning Margins (Runs) Across Seasons')\n",
    "plt.xlabel('Season')\n",
    "plt.ylabel('Mean Winning Margin (Runs)')\n",
    "plt.grid(True)\n",
    "plt.xticks(rotation=45)\n",
    "plt.show()"
   ]
  },
  {
   "cell_type": "markdown",
   "id": "1bcc4de9",
   "metadata": {},
   "source": [
    "Data Visualization:\n",
    "Visualization helps identify patterns and insights. Here are some common visualizations:\n",
    "\n",
    "1. Histograms:"
   ]
  },
  {
   "cell_type": "code",
   "execution_count": 235,
   "id": "a2bbdb9d",
   "metadata": {},
   "outputs": [
    {
     "data": {
      "image/png": "[encoded data removed]",
      "text/plain": [
       "<Figure size 576x432 with 1 Axes>"
      ]
     },
     "metadata": {
      "needs_background": "light"
     },
     "output_type": "display_data"
    },
    {
     "data": {
      "image/png": "[encoded data removed]",
      "text/plain": [
       "<Figure size 576x432 with 1 Axes>"
      ]
     },
     "metadata": {
      "needs_background": "light"
     },
     "output_type": "display_data"
    }
   ],
   "source": [
    "wicket_runs_cols = ['win_by_runs', 'win_by_wickets']\n",
    "for col in wicket_runs_cols:\n",
    "    plt.figure(figsize=(8, 6))\n",
    "    sns.histplot(data=ds_cric, x=col, bins=10, kde=True, color='blue')\n",
    "    plt.title(f'Distribution of {col}')\n",
    "    plt.xlabel(col)\n",
    "    plt.ylabel('Frequency')\n",
    "    plt.show()"
   ]
  },
  {
   "cell_type": "markdown",
   "id": "1a74792b",
   "metadata": {},
   "source": [
    "2. Bar Charts:"
   ]
  },
  {
   "cell_type": "code",
   "execution_count": 44,
   "id": "9c69b33a",
   "metadata": {},
   "outputs": [
    {
     "data": {
      "image/png": "[encoded data removed]",
      "text/plain": [
       "<Figure size 576x432 with 1 Axes>"
      ]
     },
     "metadata": {
      "needs_background": "light"
     },
     "output_type": "display_data"
    }
   ],
   "source": [
    "import matplotlib.pyplot as plt\n",
    "matches_cols = ['season','city', 'team1', 'team2', 'toss_winner', 'toss_decision', 'result', 'winner']\n",
    "\n",
    "# Histogram of city distribution\n",
    "plt.figure(figsize=(8, 6))\n",
    "sns.countplot(data=ds_cric, x=matches_cols[0], palette='viridis')\n",
    "plt.xticks(rotation=90)\n",
    "plt.title(f'Distribution of {matches_cols[0]}')\n",
    "plt.show()\n"
   ]
  },
  {
   "cell_type": "code",
   "execution_count": 46,
   "id": "e247b339",
   "metadata": {},
   "outputs": [
    {
     "data": {
      "image/png": "[encoded data removed]",
      "text/plain": [
       "<Figure size 576x432 with 1 Axes>"
      ]
     },
     "metadata": {
      "needs_background": "light"
     },
     "output_type": "display_data"
    }
   ],
   "source": [
    "plt.figure(figsize=(8, 6))\n",
    "sns.countplot(data=ds_cric, x=matches_cols[1], palette='viridis')\n",
    "plt.xticks(rotation=90)\n",
    "plt.title(f'Distribution of {matches_cols[1]}')\n",
    "plt.show()"
   ]
  },
  {
   "cell_type": "code",
   "execution_count": 47,
   "id": "0bba1c87",
   "metadata": {},
   "outputs": [
    {
     "data": {
      "image/png": "[encoded data removed]",
      "text/plain": [
       "<Figure size 576x432 with 1 Axes>"
      ]
     },
     "metadata": {
      "needs_background": "light"
     },
     "output_type": "display_data"
    }
   ],
   "source": [
    "plt.figure(figsize=(8, 6))\n",
    "sns.countplot(data=ds_cric, x=matches_cols[2], palette='viridis')\n",
    "plt.xticks(rotation=90)\n",
    "plt.title(f'Distribution of {matches_cols[2]}')\n",
    "plt.show()"
   ]
  },
  {
   "cell_type": "code",
   "execution_count": 48,
   "id": "003ff72a",
   "metadata": {},
   "outputs": [
    {
     "data": {
      "image/png": "[encoded data removed]",
      "text/plain": [
       "<Figure size 576x432 with 1 Axes>"
      ]
     },
     "metadata": {
      "needs_background": "light"
     },
     "output_type": "display_data"
    }
   ],
   "source": [
    "plt.figure(figsize=(8, 6))\n",
    "sns.countplot(data=ds_cric, x=matches_cols[3], palette='viridis')\n",
    "plt.xticks(rotation=90)\n",
    "plt.title(f'Distribution of {matches_cols[3]}')\n",
    "plt.show()"
   ]
  },
  {
   "cell_type": "code",
   "execution_count": 49,
   "id": "706da575",
   "metadata": {},
   "outputs": [
    {
     "data": {
      "image/png": "[encoded data removed]",
      "text/plain": [
       "<Figure size 576x432 with 1 Axes>"
      ]
     },
     "metadata": {
      "needs_background": "light"
     },
     "output_type": "display_data"
    }
   ],
   "source": [
    "plt.figure(figsize=(8, 6))\n",
    "sns.countplot(data=ds_cric, x=matches_cols[4], palette='viridis')\n",
    "plt.xticks(rotation=90)\n",
    "plt.title(f'Distribution of {matches_cols[4]}')\n",
    "plt.show()"
   ]
  },
  {
   "cell_type": "code",
   "execution_count": 50,
   "id": "cf18e7aa",
   "metadata": {},
   "outputs": [
    {
     "data": {
      "image/png": "[encoded data removed]",
      "text/plain": [
       "<Figure size 576x432 with 1 Axes>"
      ]
     },
     "metadata": {
      "needs_background": "light"
     },
     "output_type": "display_data"
    }
   ],
   "source": [
    "plt.figure(figsize=(8, 6))\n",
    "sns.countplot(data=ds_cric, x=matches_cols[5], palette='viridis')\n",
    "plt.xticks(rotation=90)\n",
    "plt.title(f'Distribution of {matches_cols[5]}')\n",
    "plt.show()"
   ]
  },
  {
   "cell_type": "code",
   "execution_count": 51,
   "id": "f450107a",
   "metadata": {},
   "outputs": [
    {
     "data": {
      "image/png": "[encoded data removed]",
      "text/plain": [
       "<Figure size 576x432 with 1 Axes>"
      ]
     },
     "metadata": {
      "needs_background": "light"
     },
     "output_type": "display_data"
    }
   ],
   "source": [
    "plt.figure(figsize=(8, 6))\n",
    "sns.countplot(data=ds_cric, x=matches_cols[6], palette='viridis')\n",
    "plt.xticks(rotation=90)\n",
    "plt.title(f'Distribution of {matches_cols[6]}')\n",
    "plt.show()"
   ]
  },
  {
   "cell_type": "code",
   "execution_count": 52,
   "id": "e32b39ec",
   "metadata": {},
   "outputs": [
    {
     "data": {
      "image/png": "[encoded data removed]",
      "text/plain": [
       "<Figure size 576x432 with 1 Axes>"
      ]
     },
     "metadata": {
      "needs_background": "light"
     },
     "output_type": "display_data"
    }
   ],
   "source": [
    "plt.figure(figsize=(8, 6))\n",
    "sns.countplot(data=ds_cric, x=matches_cols[7], palette='viridis')\n",
    "plt.xticks(rotation=90)\n",
    "plt.title(f'Distribution of {matches_cols[7]}')\n",
    "plt.show()"
   ]
  },
  {
   "cell_type": "markdown",
   "id": "2cfe8ee0",
   "metadata": {},
   "source": [
    "3. Box Plots:"
   ]
  },
  {
   "cell_type": "code",
   "execution_count": 40,
   "id": "d488124c",
   "metadata": {},
   "outputs": [
    {
     "data": {
      "image/png": "[encoded data removed]",
      "text/plain": [
       "<Figure size 432x288 with 1 Axes>"
      ]
     },
     "metadata": {
      "needs_background": "light"
     },
     "output_type": "display_data"
    }
   ],
   "source": [
    "# Box plot of Result distribution\n",
    "plt.boxplot(ds_cric['win_by_wickets'], vert=False, patch_artist=True)\n",
    "plt.xlabel(\"Win By Wickets\")\n",
    "plt.title(\"Distribution\")\n",
    "plt.show()"
   ]
  },
  {
   "cell_type": "code",
   "execution_count": 244,
   "id": "510ee940",
   "metadata": {},
   "outputs": [
    {
     "data": {
      "image/png": "[encoded data removed]",
      "text/plain": [
       "<Figure size 432x288 with 1 Axes>"
      ]
     },
     "metadata": {
      "needs_background": "light"
     },
     "output_type": "display_data"
    }
   ],
   "source": [
    "# Box plot of Result distribution\n",
    "plt.boxplot(ds_cric['win_by_runs'], vert=False, patch_artist=True)\n",
    "plt.xlabel(\"Win By Runs\")\n",
    "plt.title(\"Distribution\")\n",
    "plt.show()\n"
   ]
  },
  {
   "cell_type": "markdown",
   "id": "b8a902be",
   "metadata": {},
   "source": [
    "Preliminary Statistical Analysis:\n",
    "1. Summary Statistics:"
   ]
  },
  {
   "cell_type": "code",
   "execution_count": 245,
   "id": "4bf61aeb",
   "metadata": {},
   "outputs": [
    {
     "name": "stdout",
     "output_type": "stream",
     "text": [
      "Summary Statistics for Win By Runs:\n",
      "count    636.000000\n",
      "mean      13.682390\n",
      "std       23.908877\n",
      "min        0.000000\n",
      "25%        0.000000\n",
      "50%        0.000000\n",
      "75%       20.000000\n",
      "max      146.000000\n",
      "Name: win_by_runs, dtype: float64\n",
      "\n",
      "Class Summary:\n",
      "0      349\n",
      "9        9\n",
      "23       9\n",
      "7        9\n",
      "10       9\n",
      "      ... \n",
      "51       1\n",
      "50       1\n",
      "47       1\n",
      "144      1\n",
      "42       1\n",
      "Name: win_by_runs, Length: 86, dtype: int64\n"
     ]
    }
   ],
   "source": [
    "# Summary statistics for numeric columns\n",
    "summary_stats = ds_cric.describe()\n",
    "\n",
    "# Summary statistics for categorical columns\n",
    "class_summary = ds_cric['win_by_runs'].value_counts()\n",
    "print(\"Summary Statistics for Win By Runs:\")\n",
    "print(summary_stats['win_by_runs'])\n",
    "print(\"\\nClass Summary:\")\n",
    "print(class_summary)\n"
   ]
  },
  {
   "cell_type": "code",
   "execution_count": 246,
   "id": "ddd7030a",
   "metadata": {},
   "outputs": [
    {
     "name": "stdout",
     "output_type": "stream",
     "text": [
      "Summary Statistics for Win by wickets:\n",
      "count    636.000000\n",
      "mean       3.372642\n",
      "std        3.420338\n",
      "min        0.000000\n",
      "25%        0.000000\n",
      "50%        4.000000\n",
      "75%        7.000000\n",
      "max       10.000000\n",
      "Name: win_by_wickets, dtype: float64\n",
      "\n",
      "Class Summary:\n",
      "0     297\n",
      "7      70\n",
      "6      68\n",
      "5      57\n",
      "8      48\n",
      "4      34\n",
      "9      32\n",
      "3      15\n",
      "10     10\n",
      "2       4\n",
      "1       1\n",
      "Name: win_by_wickets, dtype: int64\n"
     ]
    }
   ],
   "source": [
    "class_summary = ds_cric['win_by_wickets'].value_counts()\n",
    "print(\"Summary Statistics for Win by wickets:\")\n",
    "print(summary_stats['win_by_wickets'])\n",
    "print(\"\\nClass Summary:\")\n",
    "print(class_summary)"
   ]
  },
  {
   "cell_type": "markdown",
   "id": "2fec8d33",
   "metadata": {},
   "source": [
    "2. Correlation Analysis:"
   ]
  },
  {
   "cell_type": "code",
   "execution_count": 247,
   "id": "e42e8898",
   "metadata": {},
   "outputs": [
    {
     "data": {
      "image/png": "[encoded data removed]",
      "text/plain": [
       "<Figure size 720x576 with 2 Axes>"
      ]
     },
     "metadata": {
      "needs_background": "light"
     },
     "output_type": "display_data"
    }
   ],
   "source": [
    "# Correlation matrix\n",
    "correlation_matrix = ds_cric.corr()\n",
    "\n",
    "# Heatmap of correlation matrix\n",
    "import seaborn as sns\n",
    "plt.figure(figsize=(10, 8))\n",
    "sns.heatmap(correlation_matrix, annot=True, cmap='coolwarm')\n",
    "plt.title(\"Correlation Heatmap\")\n",
    "plt.show()\n"
   ]
  },
  {
   "cell_type": "markdown",
   "id": "5c179d10",
   "metadata": {},
   "source": [
    "We can calculate basic statistics for numeric columns like win_by_runs and win_by_wickets, and summarize categorical columns like toss_decision and result. Here's an example using Python and the Pandas library:"
   ]
  },
  {
   "cell_type": "code",
   "execution_count": 248,
   "id": "e849731d",
   "metadata": {},
   "outputs": [
    {
     "name": "stdout",
     "output_type": "stream",
     "text": [
      "Descriptive Statistics for Win by runs:\n",
      "count    636.000000\n",
      "mean      13.682390\n",
      "std       23.908877\n",
      "min        0.000000\n",
      "25%        0.000000\n",
      "50%        0.000000\n",
      "75%       20.000000\n",
      "max      146.000000\n",
      "Name: win_by_runs, dtype: float64\n",
      "\n",
      "Descriptive Statistics for :\n",
      "count    636.000000\n",
      "mean       3.372642\n",
      "std        3.420338\n",
      "min        0.000000\n",
      "25%        0.000000\n",
      "50%        4.000000\n",
      "75%        7.000000\n",
      "max       10.000000\n",
      "Name: win_by_wickets, dtype: float64\n",
      "\n",
      "Toss Decision Summary:\n",
      "field    363\n",
      "bat      273\n",
      "Name: toss_decision, dtype: int64\n",
      "\n",
      "Winner Summary:\n",
      "Mumbai Indians                 92\n",
      "Chennai Super Kings            79\n",
      "Kolkata Knight Riders          77\n",
      "Royal Challengers Bangalore    73\n",
      "Kings XI Punjab                70\n",
      "Rajasthan Royals               63\n",
      "Delhi Daredevils               62\n",
      "Sunrisers Hyderabad            42\n",
      "Deccan Chargers                29\n",
      "Gujarat Lions                  13\n",
      "Pune Warriors                  12\n",
      "Rising Pune Supergiant         10\n",
      "Kochi Tuskers Kerala            6\n",
      "Rising Pune Supergiants         5\n",
      "No Result                       3\n",
      "Name: winner, dtype: int64\n"
     ]
    }
   ],
   "source": [
    "import pandas as pd\n",
    "\n",
    "# Descriptive statistics for age and fare\n",
    "win_by_runs_stats = ds_cric['win_by_runs'].describe()\n",
    "win_by_wickets_stats = ds_cric['win_by_wickets'].describe()\n",
    "\n",
    "# Summary of gender and class\n",
    "toss_summary = ds_cric['toss_decision'].value_counts()\n",
    "winner_summary = ds_cric['winner'].value_counts()\n",
    "\n",
    "print(\"Descriptive Statistics for Win by runs:\")\n",
    "print(win_by_runs_stats)\n",
    "print(\"\\nDescriptive Statistics for :\")\n",
    "print(win_by_wickets_stats)\n",
    "print(\"\\nToss Decision Summary:\")\n",
    "print(toss_summary)\n",
    "print(\"\\nWinner Summary:\")\n",
    "print(winner_summary)\n"
   ]
  },
  {
   "cell_type": "markdown",
   "id": "0733c8c8",
   "metadata": {},
   "source": [
    "# Step 6: Measures of Central Tendency"
   ]
  },
  {
   "cell_type": "markdown",
   "id": "4e6eadff",
   "metadata": {},
   "source": [
    "Let's calculate the mean, median, and mode."
   ]
  },
  {
   "cell_type": "markdown",
   "id": "b568bc66",
   "metadata": {},
   "source": [
    "1. Mean (Average):\n",
    "To calculate the mean (average) of a numeric column, such as \"Win_by_runs\", \"win_by_wickets\" in the Titanic dataset:"
   ]
  },
  {
   "cell_type": "code",
   "execution_count": 249,
   "id": "aa63235c",
   "metadata": {},
   "outputs": [
    {
     "name": "stdout",
     "output_type": "stream",
     "text": [
      "Mean Win By Runs: 13.682389937106919\n",
      "Mean win by wickets : 3.3726415094339623\n"
     ]
    }
   ],
   "source": [
    "mean_win_by_runs = ds_cric['win_by_runs'].mean()\n",
    "print(f\"Mean Win By Runs: {mean_win_by_runs}\")\n",
    "\n",
    "mean_win_by_wickets = ds_matches['win_by_wickets'].mean()\n",
    "print(f\"Mean win by wickets : {mean_win_by_wickets}\")"
   ]
  },
  {
   "cell_type": "markdown",
   "id": "b5f2760c",
   "metadata": {},
   "source": [
    "2. Median:\n",
    "To calculate the median (middle value) of a numeric column:"
   ]
  },
  {
   "cell_type": "code",
   "execution_count": 250,
   "id": "9dbe9d01",
   "metadata": {},
   "outputs": [
    {
     "name": "stdout",
     "output_type": "stream",
     "text": [
      "Median Win By Runs: 0.0\n",
      "Median win by wickets : 4.0\n"
     ]
    }
   ],
   "source": [
    "median_win_by_runs = ds_cric['win_by_runs'].median()\n",
    "print(f\"Median Win By Runs: {median_win_by_runs}\")\n",
    "\n",
    "median_win_by_wickets = ds_matches['win_by_wickets'].median()\n",
    "print(f\"Median win by wickets : {median_win_by_wickets}\")\n"
   ]
  },
  {
   "cell_type": "markdown",
   "id": "df263113",
   "metadata": {},
   "source": [
    "3. Mode:\n",
    "To calculate the mode (most frequent value) of a column, such as \"Winner\", \"toss_decision\", \"toss_winner\", \"player_of_match\" in the Titanic dataset:"
   ]
  },
  {
   "cell_type": "code",
   "execution_count": 251,
   "id": "f31290cf",
   "metadata": {},
   "outputs": [
    {
     "name": "stdout",
     "output_type": "stream",
     "text": [
      "Mode Winner: Mumbai Indians (Frequency: 92)\n",
      "Mode toss decision: field (Frequency: 363)\n",
      "Mode toss winner: Mumbai Indians (Frequency: 85)\n",
      "Mode player of match: CH Gayle (Frequency: 18)\n"
     ]
    }
   ],
   "source": [
    "from scipy import stats\n",
    "\n",
    "mode_winner = stats.mode(ds_cric['winner'])\n",
    "print(f\"Mode Winner: {mode_winner.mode[0]} (Frequency: {mode_winner.count[0]})\")\n",
    "\n",
    "mode_toss_decision = stats.mode(ds_cric['toss_decision'])\n",
    "print(f\"Mode toss decision: {mode_toss_decision.mode[0]} (Frequency: {mode_toss_decision.count[0]})\")\n",
    "\n",
    "\n",
    "mode_toss_winner = stats.mode(ds_cric['toss_winner'])\n",
    "print(f\"Mode toss winner: {mode_toss_winner.mode[0]} (Frequency: {mode_toss_winner.count[0]})\")\n",
    "\n",
    "mode_player_of_match = stats.mode(ds_cric['player_of_match'])\n",
    "print(f\"Mode player of match: {mode_player_of_match.mode[0]} (Frequency: {mode_player_of_match.count[0]})\")"
   ]
  },
  {
   "cell_type": "markdown",
   "id": "e4c51914",
   "metadata": {},
   "source": [
    "# Measures of Variability:"
   ]
  },
  {
   "cell_type": "markdown",
   "id": "eb498c2d",
   "metadata": {},
   "source": [
    "# Step 7: Calculating Variability"
   ]
  },
  {
   "cell_type": "markdown",
   "id": "ff6e88b8",
   "metadata": {},
   "source": [
    "Finally, we'll calculate the range, variance, and standard deviation."
   ]
  },
  {
   "cell_type": "markdown",
   "id": "5505063a",
   "metadata": {},
   "source": [
    "1. Range:\n",
    "To calculate the range (difference between the maximum and minimum values) of a numeric column, such as \"win by wickets\", \"win by runs\" in the Titanic dataset:"
   ]
  },
  {
   "cell_type": "code",
   "execution_count": 252,
   "id": "66a98b20",
   "metadata": {},
   "outputs": [
    {
     "name": "stdout",
     "output_type": "stream",
     "text": [
      "Range of win by wickets: 10\n",
      "Range of win by runs: 146\n"
     ]
    }
   ],
   "source": [
    "range_win_by_wickets = ds_cric['win_by_wickets'].max() - ds_cric['win_by_wickets'].min()\n",
    "print(\"Range of win by wickets:\", range_win_by_wickets)\n",
    "\n",
    "range_win_by_runs = ds_cric['win_by_runs'].max() - ds_cric['win_by_runs'].min()\n",
    "print(\"Range of win by runs:\", range_win_by_runs)\n"
   ]
  },
  {
   "cell_type": "markdown",
   "id": "cc59e424",
   "metadata": {},
   "source": [
    "2. Variance:\n",
    "To calculate the variance (average of the squared differences from the mean) of a numeric column:"
   ]
  },
  {
   "cell_type": "code",
   "execution_count": 253,
   "id": "0bead3cb",
   "metadata": {},
   "outputs": [
    {
     "name": "stdout",
     "output_type": "stream",
     "text": [
      "Variance of win by wickets: 11.69871490120345\n",
      "Variance of win by runs: 571.634398058732\n"
     ]
    }
   ],
   "source": [
    "variance_win_by_wickets = ds_cric['win_by_wickets'].var()\n",
    "print(\"Variance of win by wickets:\", variance_win_by_wickets)\n",
    "\n",
    "variance_win_by_runs = ds_cric['win_by_runs'].var()\n",
    "print(\"Variance of win by runs:\", variance_win_by_runs)\n"
   ]
  },
  {
   "cell_type": "markdown",
   "id": "52fbcce7",
   "metadata": {},
   "source": [
    "3. Standard Deviation:\n",
    "To calculate the standard deviation (square root of the variance) of a numeric column:"
   ]
  },
  {
   "cell_type": "code",
   "execution_count": 254,
   "id": "a2a62a97",
   "metadata": {},
   "outputs": [
    {
     "name": "stdout",
     "output_type": "stream",
     "text": [
      "Standard Deviation of Win By wickets: 3.4203384191046724\n",
      "Standard Deviation of Win by Runs: 23.90887697192681\n"
     ]
    }
   ],
   "source": [
    "std_dev_win_by_wickets = ds_cric['win_by_wickets'].std()\n",
    "print(\"Standard Deviation of Win By wickets:\", std_dev_win_by_wickets)\n",
    "\n",
    "std_dev_win_by_runs = ds_cric['win_by_runs'].std()\n",
    "print(\"Standard Deviation of Win by Runs:\", std_dev_win_by_runs)\n"
   ]
  },
  {
   "cell_type": "markdown",
   "id": "948f0238",
   "metadata": {},
   "source": [
    "# 2. Hypothesis Testing:"
   ]
  },
  {
   "cell_type": "markdown",
   "id": "89e39ed0",
   "metadata": {},
   "source": [
    "We can perform hypothesis tests to analyze relationships between variables. For example, you can test whether there's a significant difference in survival rates between different passenger classes. Here's a basic example using a chi-squared test in Python:"
   ]
  },
  {
   "cell_type": "code",
   "execution_count": 255,
   "id": "dc81ee65",
   "metadata": {},
   "outputs": [
    {
     "name": "stdout",
     "output_type": "stream",
     "text": [
      "Chi-squared Statistic: 1363.843\n",
      "P-Value: 5.899199165830305e-180\n",
      "Reject the null hypothesis: There is an association between team1 and the winner\n"
     ]
    }
   ],
   "source": [
    "from scipy.stats import chi2_contingency\n",
    "\n",
    "# Create a contingency table for team1 and winner\n",
    "contingency_table = pd.crosstab(ds_cric['team1'], ds_cric['winner'])\n",
    "\n",
    "# Perform a chi-squared test\n",
    "chi2, p, _, _ = chi2_contingency(contingency_table)\n",
    "\n",
    "print(\"Chi-squared Statistic:\", chi2.round(3))\n",
    "print(\"P-Value:\", p)\n",
    "\n",
    "if p < 0.05:\n",
    "    print(\"Reject the null hypothesis: There is an association between team1 and the winner\")\n",
    "else:\n",
    "    print(\"Fail to reject the null hypothesis: There is no association between team1 and the winner\")\n"
   ]
  },
  {
   "cell_type": "code",
   "execution_count": 256,
   "id": "edd54605",
   "metadata": {},
   "outputs": [
    {
     "name": "stdout",
     "output_type": "stream",
     "text": [
      "Chi-squared Statistic: 2678.332931125922\n",
      "P-Value: 0.0\n",
      "Reject the null hypothesis: There is an association between team2 and the winner\n"
     ]
    }
   ],
   "source": [
    "from scipy.stats import chi2_contingency\n",
    "\n",
    "# Create a contingency table for team1 and winner\n",
    "contingency_table = pd.crosstab(ds_cric['team2'], ds_cric['winner'])\n",
    "\n",
    "# Perform a chi-squared test\n",
    "chi2, p, _, _ = chi2_contingency(contingency_table)\n",
    "\n",
    "print(\"Chi-squared Statistic:\", chi2)\n",
    "print(\"P-Value:\", p)\n",
    "\n",
    "if p < 0.05:\n",
    "    print(\"Reject the null hypothesis: There is an association between team2 and the winner\")\n",
    "else:\n",
    "    print(\"Fail to reject the null hypothesis: There is no association between team1 and the winner\")\n"
   ]
  },
  {
   "cell_type": "markdown",
   "id": "6587185d",
   "metadata": {},
   "source": [
    "# 3. Correlation Analysis:"
   ]
  },
  {
   "cell_type": "markdown",
   "id": "fe4d7e6a",
   "metadata": {},
   "source": [
    "We can explore correlations between numeric variables. For example, you can check if there's a correlation between win_by_runs and win_by_wickets. Here's a simple correlation analysis using Python:"
   ]
  },
  {
   "cell_type": "code",
   "execution_count": 264,
   "id": "ad715f87",
   "metadata": {},
   "outputs": [
    {
     "name": "stdout",
     "output_type": "stream",
     "text": [
      "Correlation between win_by_runs and win_by_wickets: -0.565180642260317\n"
     ]
    }
   ],
   "source": [
    "correlation_winbyrun_winbywicket = ds_cric['win_by_runs'].corr(ds_cric['win_by_wickets'])\n",
    "print(\"Correlation between win_by_runs and win_by_wickets:\", correlation_winbyrun_winbywicket)\n"
   ]
  },
  {
   "cell_type": "markdown",
   "id": "f3358e6f",
   "metadata": {},
   "source": [
    "# Predictive Analyses"
   ]
  },
  {
   "cell_type": "markdown",
   "id": "f7a07515",
   "metadata": {},
   "source": [
    "Predictive analysis, also known as predictive modeling, involves using historical data to make predictions or forecasts about future events or trends. In this case, I'll demonstrate a simple predictive analysis using Python and the IPL Cricket dataset to predict winner on various features.\n",
    "\n",
    "We'll use a basic logistic regression model for prediction. Keep in mind that this is a simplified example for illustration purposes."
   ]
  },
  {
   "cell_type": "code",
   "execution_count": 263,
   "id": "a0a4129f",
   "metadata": {},
   "outputs": [
    {
     "name": "stdout",
     "output_type": "stream",
     "text": [
      "id                   0\n",
      "season               0\n",
      "city                 7\n",
      "date                 0\n",
      "team1                0\n",
      "team2                0\n",
      "toss_winner          0\n",
      "toss_decision        0\n",
      "result               0\n",
      "dl_applied           0\n",
      "winner               0\n",
      "win_by_runs          0\n",
      "win_by_wickets       0\n",
      "player_of_match      3\n",
      "venue                0\n",
      "umpire1              1\n",
      "umpire2              1\n",
      "umpire3            636\n",
      "dtype: int64\n",
      "\n",
      "Accuracy: 0.125\n",
      "\n",
      "Confusion Matrix:\n",
      "[[ 3  0  0  0  0  0 19  0  0  0  0  0  0]\n",
      " [ 0  0  0  0  0  0  4  0  0  0  0  0  0]\n",
      " [ 0  0  0  0  0  0  9  0  0  0  0  0  0]\n",
      " [ 0  0  0  0  0  0  5  0  0  0  0  0  0]\n",
      " [ 1  0  0  0  0  0 12  0  0  0  0  0  0]\n",
      " [ 0  0  0  0  0  0 17  0  0  0  0  0  0]\n",
      " [ 2  0  0  0  0  0 13  0  0  0  0  0  0]\n",
      " [ 0  0  0  0  0  0  1  0  0  0  0  0  0]\n",
      " [ 0  0  0  0  0  0  2  0  0  0  0  0  0]\n",
      " [ 0  0  0  0  0  0 13  0  0  0  0  0  0]\n",
      " [ 0  0  0  0  0  0  3  0  0  0  0  0  0]\n",
      " [ 2  0  0  0  0  0 15  0  0  0  0  0  0]\n",
      " [ 0  0  0  0  0  0  7  0  0  0  0  0  0]]\n",
      "\n",
      "Classification Report:\n",
      "                             precision    recall  f1-score   support\n",
      "\n",
      "        Chennai Super Kings       0.38      0.14      0.20        22\n",
      "            Deccan Chargers       0.00      0.00      0.00         4\n",
      "           Delhi Daredevils       0.00      0.00      0.00         9\n",
      "              Gujarat Lions       0.00      0.00      0.00         5\n",
      "            Kings XI Punjab       0.00      0.00      0.00        13\n",
      "      Kolkata Knight Riders       0.00      0.00      0.00        17\n",
      "             Mumbai Indians       0.11      0.87      0.19        15\n",
      "                  No Result       0.00      0.00      0.00         1\n",
      "              Pune Warriors       0.00      0.00      0.00         2\n",
      "           Rajasthan Royals       0.00      0.00      0.00        13\n",
      "     Rising Pune Supergiant       0.00      0.00      0.00         3\n",
      "Royal Challengers Bangalore       0.00      0.00      0.00        17\n",
      "        Sunrisers Hyderabad       0.00      0.00      0.00         7\n",
      "\n",
      "                   accuracy                           0.12       128\n",
      "                  macro avg       0.04      0.08      0.03       128\n",
      "               weighted avg       0.08      0.12      0.06       128\n",
      "\n"
     ]
    },
    {
     "name": "stderr",
     "output_type": "stream",
     "text": [
      "C:\\Users\\yashn\\anaconda3\\lib\\site-packages\\sklearn\\linear_model\\_logistic.py:762: ConvergenceWarning: lbfgs failed to converge (status=1):\n",
      "STOP: TOTAL NO. of ITERATIONS REACHED LIMIT.\n",
      "\n",
      "Increase the number of iterations (max_iter) or scale the data as shown in:\n",
      "    https://scikit-learn.org/stable/modules/preprocessing.html\n",
      "Please also refer to the documentation for alternative solver options:\n",
      "    https://scikit-learn.org/stable/modules/linear_model.html#logistic-regression\n",
      "  n_iter_i = _check_optimize_result(\n",
      "C:\\Users\\yashn\\anaconda3\\lib\\site-packages\\sklearn\\metrics\\_classification.py:1221: UndefinedMetricWarning: Precision and F-score are ill-defined and being set to 0.0 in labels with no predicted samples. Use `zero_division` parameter to control this behavior.\n",
      "  _warn_prf(average, modifier, msg_start, len(result))\n"
     ]
    }
   ],
   "source": [
    "import pandas as pd\n",
    "from sklearn.model_selection import train_test_split\n",
    "from sklearn.linear_model import LogisticRegression\n",
    "from sklearn.metrics import accuracy_score, classification_report, confusion_matrix\n",
    "\n",
    "# Assuming ds_cric is your dataset\n",
    "ds_cric = pd.read_csv('matches.csv')\n",
    "\n",
    "# Check for missing values in the dataset\n",
    "missing_values = ds_cric.isnull().sum()\n",
    "print(missing_values)\n",
    "\n",
    "# Handling missing values (if needed)\n",
    "ds_cric['season'].fillna(ds_cric['season'].median(), inplace=True)\n",
    "ds_cric['win_by_runs'].fillna(ds_cric['win_by_runs'].median(), inplace=True)\n",
    "ds_cric['win_by_wickets'].fillna(ds_cric['win_by_wickets'].median(), inplace=True)\n",
    "\n",
    "\n",
    "# Define features (X) and target (y) based on your dataset columns\n",
    "X = ds_cric[['season', 'win_by_runs', 'win_by_wickets']]  # Choosing columns as features\n",
    "y = ds_cric['winner']  # Choosing 'winner' as the target variable\n",
    "\n",
    "# Split the dataset into training and testing sets\n",
    "X_train, X_test, y_train, y_test = train_test_split(X, y, test_size=0.2, random_state=42)\n",
    "\n",
    "# Create and train a logistic regression model\n",
    "model = LogisticRegression()\n",
    "model.fit(X_train, y_train)\n",
    "\n",
    "# Make predictions on the test set\n",
    "y_pred = model.predict(X_test)\n",
    "\n",
    "# Evaluate the model\n",
    "accuracy = accuracy_score(y_test, y_pred)\n",
    "confusion = confusion_matrix(y_test, y_pred)\n",
    "classification_rep = classification_report(y_test, y_pred)\n",
    "\n",
    "print(\"\\nAccuracy:\", accuracy)\n",
    "print(\"\\nConfusion Matrix:\")\n",
    "print(confusion)\n",
    "print(\"\\nClassification Report:\")\n",
    "print(classification_rep)"
   ]
  },
  {
   "cell_type": "markdown",
   "id": "e31a2035",
   "metadata": {},
   "source": [
    "# Conclusion and Insights\n",
    "\n",
    "### Analysis of Winning Margins:\n",
    "\n",
    "#### Win by Runs: \n",
    "On average, teams secured victories by around 13.68 runs, with a typical variation of approximately 23.91 runs. Most matches (over 75%) were decided by a margin of 20 runs or less, with the maximum winning margin reaching 146 runs.\n",
    "\n",
    "#### Win by Wickets: \n",
    "The average winning margin in terms of wickets stood at about 3.37, showing a variation of around 3.42 wickets. Half of the matches saw teams winning by a margin of 4 wickets, while approximately 75% of matches concluded with a winning margin of 7 wickets or fewer. The maximum winning margin in terms of wickets was 10.\n",
    "\n",
    "### Impact of Toss Decisions:\n",
    "\n",
    "#### Toss Decision Summary: \n",
    "Out of 636 analyzed matches, teams chose to field after winning the toss in 363 matches, while 273 matches saw teams opting to bat.\n",
    "\n",
    "#### Observation: \n",
    "There's a slight tendency toward choosing to field after winning the toss, indicating a prevalent strategy among teams.\n",
    "\n",
    "### Evaluation of Top Performing Teams:\n",
    "\n",
    "#### Top Teams: \n",
    "Mumbai Indians, Chennai Super Kings, and Kolkata Knight Riders emerged as the top performers, securing 92, 79, and 77 wins, respectively.\n",
    "#### Insight: \n",
    "These teams demonstrated consistent success throughout the matches analyzed, highlighting their strong performances in the tournament.\n",
    "\n",
    "### Key Insights and Implications:\n",
    "\n",
    "#### Winning Margins: \n",
    "Matches tended to have relatively tight winning margins, whether measured in runs or wickets, suggesting closely contested outcomes and competitiveness.\n",
    "\n",
    "#### Toss Decision Influence: \n",
    "The inclination toward choosing to field after winning the toss may suggest a strategic advantage or a trend among successful teams.\n",
    "\n",
    "#### Team Performance: \n",
    "Consistent performances by Mumbai Indians, Chennai Super Kings, and Kolkata Knight Riders showcased their dominance and reliability in the league."
   ]
  },
  {
   "cell_type": "code",
   "execution_count": null,
   "id": "cbcf0948",
   "metadata": {},
   "outputs": [],
   "source": []
  }
 ],
 "metadata": {
  "kernelspec": {
   "display_name": "Python 3 (ipykernel)",
   "language": "python",
   "name": "python3"
  },
  "language_info": {
   "codemirror_mode": {
    "name": "ipython",
    "version": 3
   },
   "file_extension": ".py",
   "mimetype": "text/x-python",
   "name": "python",
   "nbconvert_exporter": "python",
   "pygments_lexer": "ipython3",
   "version": "3.11.5"
  }
 },
 "nbformat": 4,
 "nbformat_minor": 5
}
